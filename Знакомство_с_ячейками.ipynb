{
  "nbformat": 4,
  "nbformat_minor": 0,
  "metadata": {
    "colab": {
      "name": "Знакомство с ячейками.ipynb",
      "provenance": [],
      "collapsed_sections": [],
      "toc_visible": true,
      "include_colab_link": true
    },
    "kernelspec": {
      "name": "python3",
      "display_name": "Python 3"
    },
    "language_info": {
      "name": "python"
    }
  },
  "cells": [
    {
      "cell_type": "markdown",
      "metadata": {
        "id": "view-in-github",
        "colab_type": "text"
      },
      "source": [
        "<a href=\"https://colab.research.google.com/github/soustan/MyDistrib/blob/master/%D0%97%D0%BD%D0%B0%D0%BA%D0%BE%D0%BC%D1%81%D1%82%D0%B2%D0%BE_%D1%81_%D1%8F%D1%87%D0%B5%D0%B9%D0%BA%D0%B0%D0%BC%D0%B8.ipynb\" target=\"_parent\"><img src=\"https://colab.research.google.com/assets/colab-badge.svg\" alt=\"Open In Colab\"/></a>"
      ]
    },
    {
      "cell_type": "markdown",
      "source": [
        "Информация в данном блокноте составлена на основе официального источника по изучению Google Colab от Google.\n",
        "Ссылка на источник: https://colab.research.google.com/?hl=ru"
      ],
      "metadata": {
        "id": "1kmvWmzDxycn"
      }
    },
    {
      "cell_type": "markdown",
      "source": [
        "\n",
        "\n",
        "---\n",
        "\n"
      ],
      "metadata": {
        "id": "xHoADCZNxzDM"
      }
    },
    {
      "cell_type": "markdown",
      "source": [
        "\n",
        "## Блоки\n",
        "Блокнот представляет собой список блоков. Блоки содержат либо пояснительный текст, либо исполняемый код и его вывод. Щелкните на блок, чтобы выбрать ее."
      ],
      "metadata": {
        "id": "Mnv5JZ50x205"
      }
    },
    {
      "cell_type": "markdown",
      "source": [
        "# Ячейка кода\n",
        "Ниже находится ячейка с кодом. \n",
        "\n",
        "Что бы выполнить код внутри ячейки необходимо щелкнуть значок «Воспроизвести» в левой части ячейки;\n"
      ],
      "metadata": {
        "id": "y_P18K9qx7A9"
      }
    },
    {
      "cell_type": "code",
      "execution_count": 1,
      "metadata": {
        "id": "NP4ed-KOxq-z",
        "outputId": "7ee2f958-db40-46b1-c84e-6a5d3dc2ccac",
        "colab": {
          "base_uri": "https://localhost:8080/"
        }
      },
      "outputs": [
        {
          "output_type": "execute_result",
          "data": {
            "text/plain": [
              "10"
            ]
          },
          "metadata": {},
          "execution_count": 1
        }
      ],
      "source": [
        "a = 10\n",
        "a"
      ]
    },
    {
      "cell_type": "markdown",
      "source": [
        "# Ячейка текста\n",
        "Это ячейка с текстом. Вы можете дважды щелкнуть, чтобы изменить эту ячейку. Текстовые ячейки используют синтаксис Markdown. Чтобы узнать больше, можно ознакомится с [официальным руководством](https://colab.research.google.com/notebooks/markdown_guide.ipynb) по Markdown.\n",
        "\n",
        "Вы также можете добавить матемачиеские формулы и символы в текстовые ячейки, используя [LaTeX](http://www.latex-project.org/) для визуализации с помощью [MathJax](https://www.mathjax.org). Просто оберните оператор в пару знаков  **\\$**. \n",
        "<br>\n",
        "Например `$\\sqrt{3x-1}+(1+x)^2$` становится\n",
        "$\\sqrt{3x-1}+(1+x)^2.$"
      ],
      "metadata": {
        "id": "9AzMkJtQyciR"
      }
    },
    {
      "cell_type": "markdown",
      "source": [
        "# Добавление и перемещение блоков\n",
        "Вы можете добавлять новые ячейки с помощью кнопок **+ КОД** и **+ ТЕКСТ**, которые отображаются при наведении указателя мыши между ячейками.\n",
        "\n",
        "Вы можете переместить ячейку, выделив ее и нажав **Переместить ячейку вверх (Ячейка вверх)** или **Переместить ячейку вниз (Ячейка вниз)** на верхней панели инструментов."
      ],
      "metadata": {
        "id": "8Ty-h6hzzzWt"
      }
    }
  ]
}