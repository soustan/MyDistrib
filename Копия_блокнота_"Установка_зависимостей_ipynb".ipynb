{
  "nbformat": 4,
  "nbformat_minor": 0,
  "metadata": {
    "colab": {
      "name": "Копия блокнота \"Установка зависимостей.ipynb\"",
      "provenance": [],
      "toc_visible": true,
      "include_colab_link": true
    },
    "kernelspec": {
      "name": "python3",
      "display_name": "Python 3"
    },
    "language_info": {
      "name": "python"
    }
  },
  "cells": [
    {
      "cell_type": "markdown",
      "metadata": {
        "id": "view-in-github",
        "colab_type": "text"
      },
      "source": [
        "<a href=\"https://colab.research.google.com/github/soustan/MyDistrib/blob/master/%D0%9A%D0%BE%D0%BF%D0%B8%D1%8F_%D0%B1%D0%BB%D0%BE%D0%BA%D0%BD%D0%BE%D1%82%D0%B0_%22%D0%A3%D1%81%D1%82%D0%B0%D0%BD%D0%BE%D0%B2%D0%BA%D0%B0_%D0%B7%D0%B0%D0%B2%D0%B8%D1%81%D0%B8%D0%BC%D0%BE%D1%81%D1%82%D0%B5%D0%B9_ipynb%22.ipynb\" target=\"_parent\"><img src=\"https://colab.research.google.com/assets/colab-badge.svg\" alt=\"Open In Colab\"/></a>"
      ]
    },
    {
      "cell_type": "markdown",
      "source": [
        "Информация в данном блокноте составлена на основе официального источника по изучению Google Colab от Google.\n",
        "<br>Ссылка на источник: https://colab.research.google.com/?hl=ru"
      ],
      "metadata": {
        "id": "bTXhxnyq_kRp"
      }
    },
    {
      "cell_type": "markdown",
      "source": [
        "\n",
        "\n",
        "---\n",
        "\n"
      ],
      "metadata": {
        "id": "VXsA9Lr-_lVo"
      }
    },
    {
      "cell_type": "markdown",
      "source": [
        "## Установка зависимостей и немного о командной строке\n",
        "\n",
        "Когда вы уставливаете зависимости, то обычно пишете **в командной строке терминала pip install**. Как это сделать в ноутбуке? Очень просто, вам необходимо прописать эту команду прямо в ячейке кода. \n",
        "\n",
        "\n",
        "\n",
        "\n"
      ],
      "metadata": {
        "id": "toFwPUUw6Dlp"
      }
    },
    {
      "cell_type": "markdown",
      "source": [
        "Чтобы импортировать библиотеку, которой нет в Colaboratory по умолчанию, вы можете использовать **!pip install** или **!apt-get install**.\n",
        "<br>\n",
        "Знак **!** указывает, что вы обращаетесь к командной строке"
      ],
      "metadata": {
        "id": "iwZeyP5j7IDL"
      }
    },
    {
      "cell_type": "code",
      "execution_count": null,
      "metadata": {
        "id": "M7e7iK7t5rxk"
      },
      "outputs": [],
      "source": [
        "!pip install matplotlib-venn"
      ]
    },
    {
      "cell_type": "code",
      "source": [
        "!apt-get -qq install -y libfluidsynth1"
      ],
      "metadata": {
        "id": "4DbDkiyc7XNH"
      },
      "execution_count": null,
      "outputs": []
    },
    {
      "cell_type": "markdown",
      "source": [
        "С помощью Google Colab, как и в Jupyter Notebook, можно исполнять команды, как бы притворяясь, что вы находитесь в командной строке.\n",
        "\n",
        "Ноутбук исполняется на виртуальной машине с операционной системой Linux (Ubuntu), которая имеет свой список команд и синтаксис их написания. \n",
        "<br>\n",
        "С командами данной операционной системы вы можете ознакомится в статье [Linux-шпаргалка: команды терминала для новичков](https://www.reg.ru/blog/linux-shpargalka-komandy-terminala-dlya-novichkov/)\n"
      ],
      "metadata": {
        "id": "Dyo-Td_665JS"
      }
    }
  ]
}